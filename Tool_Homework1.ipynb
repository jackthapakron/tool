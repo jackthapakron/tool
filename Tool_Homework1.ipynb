{
  "nbformat": 4,
  "nbformat_minor": 0,
  "metadata": {
    "colab": {
      "provenance": [],
      "authorship_tag": "ABX9TyNg1ZAoAM8gd0kcUUonxHX6",
      "include_colab_link": true
    },
    "kernelspec": {
      "name": "python3",
      "display_name": "Python 3"
    },
    "language_info": {
      "name": "python"
    }
  },
  "cells": [
    {
      "cell_type": "markdown",
      "metadata": {
        "id": "view-in-github",
        "colab_type": "text"
      },
      "source": [
        "<a href=\"https://colab.research.google.com/github/jackthapakron/tool/blob/main/Tool_Homework1.ipynb\" target=\"_parent\"><img src=\"https://colab.research.google.com/assets/colab-badge.svg\" alt=\"Open In Colab\"/></a>"
      ]
    },
    {
      "cell_type": "code",
      "execution_count": null,
      "metadata": {
        "colab": {
          "base_uri": "https://localhost:8080/"
        },
        "id": "oj6GIPDDfTXr",
        "outputId": "f731476b-db94-44da-e9f0-bca643d3a3ec"
      },
      "outputs": [
        {
          "output_type": "stream",
          "name": "stdout",
          "text": [
            "{1: 2, 2: 1}\n",
            "{2: 62558, 1: 125134, 3: 31386, 4: 15572, 6: 3938, 5: 7768, 7: 1943, 10: 227, 8: 944, 9: 481, 11: 140, 15: 7, 14: 12, 13: 36, 12: 65, 18: 3, 19: 1, 16: 4, 21: 1, 17: 1}\n"
          ]
        }
      ],
      "source": [
        "# 1 Question\n",
        "\n",
        "import numpy as np\n",
        "\n",
        "def count_runs(sequence):\n",
        "    run_lengths = []\n",
        "    current_run = 0\n",
        "\n",
        "    for num in sequence:\n",
        "        if num == 1:\n",
        "            current_run += 1\n",
        "        elif current_run > 0:\n",
        "            run_lengths.append(current_run)\n",
        "            current_run = 0\n",
        "\n",
        "    if current_run > 0:\n",
        "        run_lengths.append(current_run)\n",
        "\n",
        "    run_counts = {}\n",
        "    for length in run_lengths:\n",
        "        if length in run_counts:\n",
        "            run_counts[length] += 1\n",
        "        else:\n",
        "            run_counts[length] = 1\n",
        "\n",
        "    return run_counts\n",
        "\n",
        "\n",
        "result1 = count_runs([0, 1, 0, 1, 1, 0, 0, 0, 0, 1])\n",
        "result2 = count_runs(np.random.randint(0, 2, 1000000))\n",
        "\n",
        "print(result1)\n",
        "print(result2)\n"
      ]
    },
    {
      "cell_type": "code",
      "source": [
        "result = count_runs([0, 1, 1, 1, 1, 0, 0, 1, 0, 1, 0, 0, 0,1,1,1,1,1])\n",
        "print(result)\n"
      ],
      "metadata": {
        "colab": {
          "base_uri": "https://localhost:8080/"
        },
        "id": "fAA4oQsRizVW",
        "outputId": "2ffbc425-4c4f-4631-89db-d52ff1649b7b"
      },
      "execution_count": null,
      "outputs": [
        {
          "output_type": "stream",
          "name": "stdout",
          "text": [
            "{4: 1, 1: 2, 5: 1}\n"
          ]
        }
      ]
    },
    {
      "cell_type": "code",
      "source": [
        "#2 Question\n",
        "\n",
        "import numpy as np\n",
        "\n",
        "def run_prob(sequence, k):\n",
        "    run_counts = count_runs(sequence)\n",
        "\n",
        "    for length, count in run_counts.items():\n",
        "        if length >= k:\n",
        "            return True\n",
        "\n",
        "    return False\n",
        "\n",
        "\n",
        "experiments = 100000\n",
        "success_count = sum(run_prob(np.random.choice([0, 1], size=100, p=[0.5, 0.5]), k=5) for _ in range(experiments))\n",
        "result1 = success_count / experiments\n",
        "\n",
        "success_count = sum(run_prob(np.random.choice([0, 1], size=100, p=[0.7, 0.3]), k=7) for _ in range(experiments))\n",
        "result2 = success_count / experiments\n",
        "\n",
        "print(result1)\n",
        "print(result2)"
      ],
      "metadata": {
        "colab": {
          "base_uri": "https://localhost:8080/"
        },
        "id": "FZirYtEpFFdP",
        "outputId": "724b5db9-0b26-4800-befb-83a6c4b3f0e3"
      },
      "execution_count": null,
      "outputs": [
        {
          "output_type": "stream",
          "name": "stdout",
          "text": [
            "0.81151\n",
            "0.01512\n"
          ]
        }
      ]
    },
    {
      "cell_type": "markdown",
      "source": [
        "**2 Question**\n",
        "\n",
        "\n",
        "*   The probability of observing at least one run of length 5 or more when n=100 and p=0.5 is approximately 0.81151.\n",
        "*   The probability of observing at least one run of length 7 or more when p=0.7 is approximately 0.01512.\n",
        "\n",
        "\n",
        "\n",
        "\n",
        "Comparing these probabilities, it appears that the likelihood of observing a run of length 5 or more is significantly higher than the likelihood of observing a run of length 7 or more.\n"
      ],
      "metadata": {
        "id": "rUvVqJxdFjzX"
      }
    }
  ]
}